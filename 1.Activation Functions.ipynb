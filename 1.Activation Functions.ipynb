{
 "cells": [
  {
   "cell_type": "markdown",
   "metadata": {
    "id": "KrZZ6nveoisF"
   },
   "source": [
    "#Activation Function"
   ]
  },
  {
   "cell_type": "markdown",
   "metadata": {
    "id": "SB6ZUhVWomhd"
   },
   "source": [
    "## The sigmoid function\n",
    "\n",
    "Mathematically, $$ f(x) = \\frac{1}{1 + e^{-x}}$$\n",
    "\n",
    "The value of this function lies between 0 and 1."
   ]
  },
  {
   "cell_type": "code",
   "execution_count": 1,
   "metadata": {
    "id": "2pTPjizbolsR"
   },
   "outputs": [],
   "source": [
    "import numpy as np"
   ]
  },
  {
   "cell_type": "code",
   "execution_count": 2,
   "metadata": {
    "id": "02D2l_FJqNlr"
   },
   "outputs": [],
   "source": [
    "def sigmoid(x):\n",
    "  return 1/(1 + np.exp(-x))"
   ]
  },
  {
   "cell_type": "markdown",
   "metadata": {
    "id": "6f1n3rGpqVcF"
   },
   "source": [
    "## The Tanh function\n",
    "\n",
    "Mathematically, $$ f(x) = \\frac{1 - e^{-2x}}{1 + e^{-2x}}$$\n",
    "\n",
    "The value of this function lies between -1 and +1"
   ]
  },
  {
   "cell_type": "code",
   "execution_count": 3,
   "metadata": {
    "id": "ufE6H_4QqSv_"
   },
   "outputs": [],
   "source": [
    "def tanh(x):\n",
    "  numerator = 1 - np.exp(-2*x)\n",
    "  denominator = 1 + np.exp(-2*x)\n",
    "  return numerator/denominator"
   ]
  },
  {
   "cell_type": "markdown",
   "metadata": {
    "id": "P2sKBeKTq7O1"
   },
   "source": [
    "## ReLU (Rectified Linear Unit) Function\n",
    "\n",
    "Mathematically, $$f(x) = max(0, x)$$\n",
    "\n",
    "The value of this function ranges from 0 to infinity."
   ]
  },
  {
   "cell_type": "code",
   "execution_count": null,
   "metadata": {
    "id": "BygUWflZqyO_"
   },
   "outputs": [],
   "source": [
    "def ReLU(x):\n",
    "  if x>0:\n",
    "    return x\n",
    "  return 0"
   ]
  },
  {
   "cell_type": "markdown",
   "metadata": {
    "id": "aqctHwxark5u"
   },
   "source": [
    "## The Leaky ReLU Function\n",
    "The Leaky ReLU (Rectified Linear Unit) is a variant of the ReLU activation function that addresses the \"dying ReLU\" problem by allowing a small gradient when the unit is not active. It is defined as:\n",
    "\n",
    "$$f(x) = \\begin{cases}\n",
    "x, & \\text{if } x \\geq 0 \\\\\n",
    "\\alpha x, & \\text{otherwise}\n",
    "\\end{cases}$$\n"
   ]
  },
  {
   "cell_type": "code",
   "execution_count": 4,
   "metadata": {
    "id": "Uhem3v32sAuh"
   },
   "outputs": [],
   "source": [
    "def leakyReLU(x, alpha=0.01):\n",
    "  if x < 0:\n",
    "    return alpha*x\n",
    "  return x"
   ]
  },
  {
   "cell_type": "markdown",
   "metadata": {
    "id": "4h8hYQQwvoSW"
   },
   "source": [
    "## The Exponential Linear Unit Function\n",
    "It is defined as:\n",
    "$$f(x) = \\begin{cases}\n",
    "x, & \\text{if } x \\geq 0 \\\\\n",
    "\\alpha \\cdot (e^x - 1), & \\text{otherwise}\n",
    "\\end{cases} $$\n",
    "\n",
    "It has a small slope for negative values. It has a log curve."
   ]
  },
  {
   "cell_type": "code",
   "execution_count": 5,
   "metadata": {
    "id": "J5zUYAR2sLlF"
   },
   "outputs": [],
   "source": [
    "def ELU(x, alpha=0.01):\n",
    "  if x < 0:\n",
    "    return (alpha * (np.exp(x) - 1))\n",
    "  return x"
   ]
  },
  {
   "cell_type": "markdown",
   "metadata": {
    "id": "KGk--0vLwjIe"
   },
   "source": [
    "## The Swish Function\n",
    "\n",
    "Swish is a non-monotonic function, which means it is neither always non-increasing or non-decreasing.<br>\n",
    "\n",
    "$$ f(x) = x \\cdot \\sigma(x) $$\n",
    "\n",
    "It can be reparametrized as:\n",
    "$$ f(x) = 2x \\cdot \\sigma(\\beta x) $$\n",
    "\n",
    "where:\n",
    "- \\( f(x) \\) is the output of the Swish function for input \\( x \\).\n",
    "- \\( x \\) is the input value.\n",
    "- $\\sigma(\\cdot)$ is the sigmoid function, which is defined as $ \\sigma(x) = \\frac{1}{1 + e^{-x}} $.\n",
    "- $ \\beta $ is a hyperparameter that determines the slope of the function.\n",
    "\n",
    "When $\\beta = 0 $, the Swish function simplifies to $ f(x) = x $, and as $ \\beta $ increases (tends to infinity), the function becomes $2 max(0,x) $, which is basically the ReLU function multiplied by some constant value. So, the value of $ \\beta $ acts as a good interpolation between a linear and a non-linear function."
   ]
  },
  {
   "cell_type": "code",
   "execution_count": 6,
   "metadata": {
    "id": "YsCZ9an-wauC"
   },
   "outputs": [],
   "source": [
    "def swish(x, beta):\n",
    "  return 2*x*sigmoid(beta*x)"
   ]
  },
  {
   "cell_type": "markdown",
   "metadata": {
    "id": "H03Qo8g6xyue"
   },
   "source": [
    "## The softmax function\n",
    "\n"
   ]
  },
  {
   "cell_type": "code",
   "execution_count": 7,
   "metadata": {
    "id": "ghghinD0xcyx"
   },
   "outputs": [],
   "source": [
    "def softmax(x):\n",
    "  return np.exp(x) / np.exp(x).sum(axis=0)"
   ]
  },
  {
   "cell_type": "markdown",
   "metadata": {
    "id": "a-pcFjnCyr7e"
   },
   "source": [
    "# Forward Propagation in ANN"
   ]
  },
  {
   "cell_type": "code",
   "execution_count": 10,
   "metadata": {
    "id": "iwWqIC-6yqho"
   },
   "outputs": [],
   "source": [
    "def forward_prop(X, Wxh, Why):\n",
    "  z1 = np.dot(X, Wxh) + bh\n",
    "  a1 = sigmoid(z1)\n",
    "  z2 = np.dot(a1, Why) + by\n",
    "  y_hat = sigmoid(z2)\n",
    "\n",
    "  return z1, a1, z2, y_hat"
   ]
  },
  {
   "cell_type": "markdown",
   "metadata": {
    "id": "6fA3kJRG1an2"
   },
   "source": [
    "# Backward Propagation in ANN"
   ]
  },
  {
   "cell_type": "code",
   "execution_count": 19,
   "metadata": {
    "id": "Qv53m9HN0P1E"
   },
   "outputs": [],
   "source": [
    "def backward_prop(y_hat, z1, a1, z2):\n",
    "    delta2 = np.multiply(-(y-y_hat),sigmoid_derivative(z2))\n",
    "    dJ_dWhy = np.dot(a1.T, delta2)\n",
    "    delta1 = np.dot(delta2,Why.T)*sigmoid_derivative(z1)\n",
    "    dJ_dWxh = np.dot(x.T, delta1)\n",
    "\n",
    "    return dJ_dWxh, dJ_dWhy"
   ]
  },
  {
   "cell_type": "markdown",
   "metadata": {
    "id": "TerHFh0i18g3"
   },
   "source": [
    "# Building a neural network from scratch"
   ]
  },
  {
   "cell_type": "code",
   "execution_count": 12,
   "metadata": {
    "id": "Sj34kCAV1ys8"
   },
   "outputs": [],
   "source": [
    "import matplotlib.pyplot as plt\n",
    "%matplotlib inline"
   ]
  },
  {
   "cell_type": "markdown",
   "metadata": {
    "id": "XaVYeYl42E--"
   },
   "source": [
    "### Preparing the data (XOR table)"
   ]
  },
  {
   "cell_type": "code",
   "execution_count": 13,
   "metadata": {
    "id": "C0NVWVTn2Be_"
   },
   "outputs": [],
   "source": [
    "x = np.array([[0,0],[0,1],[1,0],[1,1]])\n",
    "y = np.array([[0],[1],[1],[0]])"
   ]
  },
  {
   "cell_type": "markdown",
   "metadata": {
    "id": "p9UE0MJO2N7u"
   },
   "source": [
    "### Defining the number of nodes in each layer"
   ]
  },
  {
   "cell_type": "code",
   "execution_count": 14,
   "metadata": {
    "id": "Qglmk4KF2Kyg"
   },
   "outputs": [],
   "source": [
    "num_input = 2\n",
    "num_hidden = 5\n",
    "num_output = 1"
   ]
  },
  {
   "cell_type": "markdown",
   "metadata": {
    "id": "17wV2R4r2SmP"
   },
   "source": [
    "### Initializing the weights and biases randomly"
   ]
  },
  {
   "cell_type": "code",
   "execution_count": 15,
   "metadata": {
    "id": "OC_eW9Hz2SCt"
   },
   "outputs": [],
   "source": [
    "#Input layer to hidden layer weights\n",
    "Wxh = np.random.randn(num_input,num_hidden)\n",
    "bh = np.zeros((1,num_hidden))\n",
    "\n",
    "#Hidden layer to output layer\n",
    "Why = np.random.randn(num_hidden,num_output)\n",
    "by = np.zeros((1,num_output))"
   ]
  },
  {
   "cell_type": "markdown",
   "metadata": {
    "id": "MkQpXcFt2dq-"
   },
   "source": [
    "### Define the derivative of sigmoid function"
   ]
  },
  {
   "cell_type": "code",
   "execution_count": 16,
   "metadata": {
    "id": "xaXHzXg02Y7s"
   },
   "outputs": [],
   "source": [
    "def sigmoid_derivative(z):\n",
    "    return np.exp(-z)/((1+np.exp(-z))**2)"
   ]
  },
  {
   "cell_type": "markdown",
   "metadata": {
    "id": "CBgwG9p42iPl"
   },
   "source": [
    "### Define the cost function"
   ]
  },
  {
   "cell_type": "code",
   "execution_count": 17,
   "metadata": {
    "id": "r3ygwod92gCj"
   },
   "outputs": [],
   "source": [
    "def cost_function(y,y_hat):\n",
    "    J = 0.5*sum((y-y_hat)**2)\n",
    "    return J"
   ]
  },
  {
   "cell_type": "markdown",
   "metadata": {
    "id": "lIsrPAbN2lrV"
   },
   "source": [
    "### Set the learning rate and the number of training iterations"
   ]
  },
  {
   "cell_type": "code",
   "execution_count": 18,
   "metadata": {
    "id": "bBKSeWQ_2kNv"
   },
   "outputs": [],
   "source": [
    "alpha = 0.01\n",
    "num_iterations = 5000"
   ]
  },
  {
   "cell_type": "markdown",
   "metadata": {
    "id": "yG2f5W2A2pVn"
   },
   "source": [
    "### Start Training"
   ]
  },
  {
   "cell_type": "code",
   "execution_count": 20,
   "metadata": {
    "id": "2eTtSW-52n91"
   },
   "outputs": [],
   "source": [
    "cost = []\n",
    "for i in range(num_iterations):\n",
    "    z1,a1,z2,y_hat = forward_prop(x,Wxh,Why)\n",
    "    dJ_dWxh, dJ_dWhy = backward_prop(y_hat, z1, a1, z2)\n",
    "\n",
    "    #update weights\n",
    "    Wxh = Wxh - alpha * dJ_dWxh\n",
    "    Why = Why - alpha * dJ_dWhy\n",
    "\n",
    "    #compute cost\n",
    "    c = cost_function(y,y_hat)\n",
    "\n",
    "    cost.append(c)"
   ]
  },
  {
   "cell_type": "markdown",
   "metadata": {
    "id": "Hbdl8g-G25ot"
   },
   "source": [
    "### Plot the cost function"
   ]
  },
  {
   "cell_type": "code",
   "execution_count": 21,
   "metadata": {
    "colab": {
     "base_uri": "https://localhost:8080/",
     "height": 490
    },
    "id": "bbqlt5U025CA",
    "outputId": "e4106ee6-b3be-4399-bc50-c42eb11d39dc"
   },
   "outputs": [
    {
     "data": {
      "text/plain": [
       "Text(0, 0.5, 'Cost')"
      ]
     },
     "execution_count": 21,
     "metadata": {},
     "output_type": "execute_result"
    },
    {
     "data": {
      "image/png": "[encoded data removed]",
      "text/plain": [
       "<Figure size 640x480 with 1 Axes>"
      ]
     },
     "metadata": {},
     "output_type": "display_data"
    }
   ],
   "source": [
    "plt.grid()\n",
    "plt.plot(range(num_iterations),cost)\n",
    "plt.title('Cost Function')\n",
    "plt.xlabel('Training Iterations')\n",
    "plt.ylabel('Cost')"
   ]
  },
  {
   "cell_type": "code",
   "execution_count": null,
   "metadata": {
    "id": "fqP3045o2-qI"
   },
   "outputs": [],
   "source": []
  }
 ],
 "metadata": {
  "colab": {
   "provenance": []
  },
  "kernelspec": {
   "display_name": "Python 3 (ipykernel)",
   "language": "python",
   "name": "python3"
  },
  "language_info": {
   "codemirror_mode": {
    "name": "ipython",
    "version": 3
   },
   "file_extension": ".py",
   "mimetype": "text/x-python",
   "name": "python",
   "nbconvert_exporter": "python",
   "pygments_lexer": "ipython3",
   "version": "3.9.2"
  }
 },
 "nbformat": 4,
 "nbformat_minor": 1
}
