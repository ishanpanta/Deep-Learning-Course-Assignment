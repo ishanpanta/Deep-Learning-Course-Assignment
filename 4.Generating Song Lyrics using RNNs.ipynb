{
  "nbformat": 4,
  "nbformat_minor": 0,
  "metadata": {
    "colab": {
      "provenance": []
    },
    "kernelspec": {
      "name": "python3",
      "display_name": "Python 3"
    },
    "language_info": {
      "name": "python"
    }
  },
  "cells": [
    {
      "cell_type": "markdown",
      "source": [
        "# Generating Song Lyrics using RNNs"
      ],
      "metadata": {
        "id": "mc4iGFDv6Tcm"
      }
    },
    {
      "cell_type": "code",
      "execution_count": 2,
      "metadata": {
        "id": "NWqE8CjZ41TF"
      },
      "outputs": [],
      "source": [
        "import warnings\n",
        "warnings.filterwarnings('ignore')\n",
        "\n",
        "import random\n",
        "import numpy as np\n",
        "import pandas as pd\n",
        "import tensorflow as tf\n",
        "import random"
      ]
    },
    {
      "cell_type": "code",
      "source": [
        "df = pd.read_csv(\"/content/songdata.csv\")"
      ],
      "metadata": {
        "id": "C7EJsnml6usN"
      },
      "execution_count": 7,
      "outputs": []
    },
    {
      "cell_type": "code",
      "source": [
        "df.head()"
      ],
      "metadata": {
        "colab": {
          "base_uri": "https://localhost:8080/",
          "height": 206
        },
        "id": "i1d2hJfi8UHP",
        "outputId": "52db1d61-a3fb-44f4-8ebe-2cb907f6dd28"
      },
      "execution_count": 8,
      "outputs": [
        {
          "output_type": "execute_result",
          "data": {
            "text/plain": [
              "  artist                   song                                        link  \\\n",
              "0   ABBA  Ahe's My Kind Of Girl  /a/abba/ahes+my+kind+of+girl_20598417.html   \n",
              "1   ABBA       Andante, Andante       /a/abba/andante+andante_20002708.html   \n",
              "2   ABBA         As Good As New        /a/abba/as+good+as+new_20003033.html   \n",
              "3   ABBA                   Bang                  /a/abba/bang_20598415.html   \n",
              "4   ABBA       Bang-A-Boomerang      /a/abba/bang+a+boomerang_20002668.html   \n",
              "\n",
              "                                                text  \n",
              "0  Look at her face, it's a wonderful face  \\nAnd...  \n",
              "1  Take it easy with me, please  \\nTouch me gentl...  \n",
              "2  I'll never know why I had to go  \\nWhy I had t...  \n",
              "3  Making somebody happy is a question of give an...  \n",
              "4  Making somebody happy is a question of give an...  "
            ],
            "text/html": [
              "\n",
              "  <div id=\"df-93437b3f-8f41-45d6-9caa-e8840e8cc650\" class=\"colab-df-container\">\n",
              "    <div>\n",
              "<style scoped>\n",
              "    .dataframe tbody tr th:only-of-type {\n",
              "        vertical-align: middle;\n",
              "    }\n",
              "\n",
              "    .dataframe tbody tr th {\n",
              "        vertical-align: top;\n",
              "    }\n",
              "\n",
              "    .dataframe thead th {\n",
              "        text-align: right;\n",
              "    }\n",
              "</style>\n",
              "<table border=\"1\" class=\"dataframe\">\n",
              "  <thead>\n",
              "    <tr style=\"text-align: right;\">\n",
              "      <th></th>\n",
              "      <th>artist</th>\n",
              "      <th>song</th>\n",
              "      <th>link</th>\n",
              "      <th>text</th>\n",
              "    </tr>\n",
              "  </thead>\n",
              "  <tbody>\n",
              "    <tr>\n",
              "      <th>0</th>\n",
              "      <td>ABBA</td>\n",
              "      <td>Ahe's My Kind Of Girl</td>\n",
              "      <td>/a/abba/ahes+my+kind+of+girl_20598417.html</td>\n",
              "      <td>Look at her face, it's a wonderful face  \\nAnd...</td>\n",
              "    </tr>\n",
              "    <tr>\n",
              "      <th>1</th>\n",
              "      <td>ABBA</td>\n",
              "      <td>Andante, Andante</td>\n",
              "      <td>/a/abba/andante+andante_20002708.html</td>\n",
              "      <td>Take it easy with me, please  \\nTouch me gentl...</td>\n",
              "    </tr>\n",
              "    <tr>\n",
              "      <th>2</th>\n",
              "      <td>ABBA</td>\n",
              "      <td>As Good As New</td>\n",
              "      <td>/a/abba/as+good+as+new_20003033.html</td>\n",
              "      <td>I'll never know why I had to go  \\nWhy I had t...</td>\n",
              "    </tr>\n",
              "    <tr>\n",
              "      <th>3</th>\n",
              "      <td>ABBA</td>\n",
              "      <td>Bang</td>\n",
              "      <td>/a/abba/bang_20598415.html</td>\n",
              "      <td>Making somebody happy is a question of give an...</td>\n",
              "    </tr>\n",
              "    <tr>\n",
              "      <th>4</th>\n",
              "      <td>ABBA</td>\n",
              "      <td>Bang-A-Boomerang</td>\n",
              "      <td>/a/abba/bang+a+boomerang_20002668.html</td>\n",
              "      <td>Making somebody happy is a question of give an...</td>\n",
              "    </tr>\n",
              "  </tbody>\n",
              "</table>\n",
              "</div>\n",
              "    <div class=\"colab-df-buttons\">\n",
              "\n",
              "  <div class=\"colab-df-container\">\n",
              "    <button class=\"colab-df-convert\" onclick=\"convertToInteractive('df-93437b3f-8f41-45d6-9caa-e8840e8cc650')\"\n",
              "            title=\"Convert this dataframe to an interactive table.\"\n",
              "            style=\"display:none;\">\n",
              "\n",
              "  <svg xmlns=\"http://www.w3.org/2000/svg\" height=\"24px\" viewBox=\"0 -960 960 960\">\n",
              "    <path d=\"M120-120v-720h720v720H120Zm60-500h600v-160H180v160Zm220 220h160v-160H400v160Zm0 220h160v-160H400v160ZM180-400h160v-160H180v160Zm440 0h160v-160H620v160ZM180-180h160v-160H180v160Zm440 0h160v-160H620v160Z\"/>\n",
              "  </svg>\n",
              "    </button>\n",
              "\n",
              "  <style>\n",
              "    .colab-df-container {\n",
              "      display:flex;\n",
              "      gap: 12px;\n",
              "    }\n",
              "\n",
              "    .colab-df-convert {\n",
              "      background-color: #E8F0FE;\n",
              "      border: none;\n",
              "      border-radius: 50%;\n",
              "      cursor: pointer;\n",
              "      display: none;\n",
              "      fill: #1967D2;\n",
              "      height: 32px;\n",
              "      padding: 0 0 0 0;\n",
              "      width: 32px;\n",
              "    }\n",
              "\n",
              "    .colab-df-convert:hover {\n",
              "      background-color: #E2EBFA;\n",
              "      box-shadow: 0px 1px 2px rgba(60, 64, 67, 0.3), 0px 1px 3px 1px rgba(60, 64, 67, 0.15);\n",
              "      fill: #174EA6;\n",
              "    }\n",
              "\n",
              "    .colab-df-buttons div {\n",
              "      margin-bottom: 4px;\n",
              "    }\n",
              "\n",
              "    [theme=dark] .colab-df-convert {\n",
              "      background-color: #3B4455;\n",
              "      fill: #D2E3FC;\n",
              "    }\n",
              "\n",
              "    [theme=dark] .colab-df-convert:hover {\n",
              "      background-color: #434B5C;\n",
              "      box-shadow: 0px 1px 3px 1px rgba(0, 0, 0, 0.15);\n",
              "      filter: drop-shadow(0px 1px 2px rgba(0, 0, 0, 0.3));\n",
              "      fill: #FFFFFF;\n",
              "    }\n",
              "  </style>\n",
              "\n",
              "    <script>\n",
              "      const buttonEl =\n",
              "        document.querySelector('#df-93437b3f-8f41-45d6-9caa-e8840e8cc650 button.colab-df-convert');\n",
              "      buttonEl.style.display =\n",
              "        google.colab.kernel.accessAllowed ? 'block' : 'none';\n",
              "\n",
              "      async function convertToInteractive(key) {\n",
              "        const element = document.querySelector('#df-93437b3f-8f41-45d6-9caa-e8840e8cc650');\n",
              "        const dataTable =\n",
              "          await google.colab.kernel.invokeFunction('convertToInteractive',\n",
              "                                                    [key], {});\n",
              "        if (!dataTable) return;\n",
              "\n",
              "        const docLinkHtml = 'Like what you see? Visit the ' +\n",
              "          '<a target=\"_blank\" href=https://colab.research.google.com/notebooks/data_table.ipynb>data table notebook</a>'\n",
              "          + ' to learn more about interactive tables.';\n",
              "        element.innerHTML = '';\n",
              "        dataTable['output_type'] = 'display_data';\n",
              "        await google.colab.output.renderOutput(dataTable, element);\n",
              "        const docLink = document.createElement('div');\n",
              "        docLink.innerHTML = docLinkHtml;\n",
              "        element.appendChild(docLink);\n",
              "      }\n",
              "    </script>\n",
              "  </div>\n",
              "\n",
              "\n",
              "<div id=\"df-138b7111-71a2-419e-8265-2d4e76665d11\">\n",
              "  <button class=\"colab-df-quickchart\" onclick=\"quickchart('df-138b7111-71a2-419e-8265-2d4e76665d11')\"\n",
              "            title=\"Suggest charts.\"\n",
              "            style=\"display:none;\">\n",
              "\n",
              "<svg xmlns=\"http://www.w3.org/2000/svg\" height=\"24px\"viewBox=\"0 0 24 24\"\n",
              "     width=\"24px\">\n",
              "    <g>\n",
              "        <path d=\"M19 3H5c-1.1 0-2 .9-2 2v14c0 1.1.9 2 2 2h14c1.1 0 2-.9 2-2V5c0-1.1-.9-2-2-2zM9 17H7v-7h2v7zm4 0h-2V7h2v10zm4 0h-2v-4h2v4z\"/>\n",
              "    </g>\n",
              "</svg>\n",
              "  </button>\n",
              "\n",
              "<style>\n",
              "  .colab-df-quickchart {\n",
              "      --bg-color: #E8F0FE;\n",
              "      --fill-color: #1967D2;\n",
              "      --hover-bg-color: #E2EBFA;\n",
              "      --hover-fill-color: #174EA6;\n",
              "      --disabled-fill-color: #AAA;\n",
              "      --disabled-bg-color: #DDD;\n",
              "  }\n",
              "\n",
              "  [theme=dark] .colab-df-quickchart {\n",
              "      --bg-color: #3B4455;\n",
              "      --fill-color: #D2E3FC;\n",
              "      --hover-bg-color: #434B5C;\n",
              "      --hover-fill-color: #FFFFFF;\n",
              "      --disabled-bg-color: #3B4455;\n",
              "      --disabled-fill-color: #666;\n",
              "  }\n",
              "\n",
              "  .colab-df-quickchart {\n",
              "    background-color: var(--bg-color);\n",
              "    border: none;\n",
              "    border-radius: 50%;\n",
              "    cursor: pointer;\n",
              "    display: none;\n",
              "    fill: var(--fill-color);\n",
              "    height: 32px;\n",
              "    padding: 0;\n",
              "    width: 32px;\n",
              "  }\n",
              "\n",
              "  .colab-df-quickchart:hover {\n",
              "    background-color: var(--hover-bg-color);\n",
              "    box-shadow: 0 1px 2px rgba(60, 64, 67, 0.3), 0 1px 3px 1px rgba(60, 64, 67, 0.15);\n",
              "    fill: var(--button-hover-fill-color);\n",
              "  }\n",
              "\n",
              "  .colab-df-quickchart-complete:disabled,\n",
              "  .colab-df-quickchart-complete:disabled:hover {\n",
              "    background-color: var(--disabled-bg-color);\n",
              "    fill: var(--disabled-fill-color);\n",
              "    box-shadow: none;\n",
              "  }\n",
              "\n",
              "  .colab-df-spinner {\n",
              "    border: 2px solid var(--fill-color);\n",
              "    border-color: transparent;\n",
              "    border-bottom-color: var(--fill-color);\n",
              "    animation:\n",
              "      spin 1s steps(1) infinite;\n",
              "  }\n",
              "\n",
              "  @keyframes spin {\n",
              "    0% {\n",
              "      border-color: transparent;\n",
              "      border-bottom-color: var(--fill-color);\n",
              "      border-left-color: var(--fill-color);\n",
              "    }\n",
              "    20% {\n",
              "      border-color: transparent;\n",
              "      border-left-color: var(--fill-color);\n",
              "      border-top-color: var(--fill-color);\n",
              "    }\n",
              "    30% {\n",
              "      border-color: transparent;\n",
              "      border-left-color: var(--fill-color);\n",
              "      border-top-color: var(--fill-color);\n",
              "      border-right-color: var(--fill-color);\n",
              "    }\n",
              "    40% {\n",
              "      border-color: transparent;\n",
              "      border-right-color: var(--fill-color);\n",
              "      border-top-color: var(--fill-color);\n",
              "    }\n",
              "    60% {\n",
              "      border-color: transparent;\n",
              "      border-right-color: var(--fill-color);\n",
              "    }\n",
              "    80% {\n",
              "      border-color: transparent;\n",
              "      border-right-color: var(--fill-color);\n",
              "      border-bottom-color: var(--fill-color);\n",
              "    }\n",
              "    90% {\n",
              "      border-color: transparent;\n",
              "      border-bottom-color: var(--fill-color);\n",
              "    }\n",
              "  }\n",
              "</style>\n",
              "\n",
              "  <script>\n",
              "    async function quickchart(key) {\n",
              "      const quickchartButtonEl =\n",
              "        document.querySelector('#' + key + ' button');\n",
              "      quickchartButtonEl.disabled = true;  // To prevent multiple clicks.\n",
              "      quickchartButtonEl.classList.add('colab-df-spinner');\n",
              "      try {\n",
              "        const charts = await google.colab.kernel.invokeFunction(\n",
              "            'suggestCharts', [key], {});\n",
              "      } catch (error) {\n",
              "        console.error('Error during call to suggestCharts:', error);\n",
              "      }\n",
              "      quickchartButtonEl.classList.remove('colab-df-spinner');\n",
              "      quickchartButtonEl.classList.add('colab-df-quickchart-complete');\n",
              "    }\n",
              "    (() => {\n",
              "      let quickchartButtonEl =\n",
              "        document.querySelector('#df-138b7111-71a2-419e-8265-2d4e76665d11 button');\n",
              "      quickchartButtonEl.style.display =\n",
              "        google.colab.kernel.accessAllowed ? 'block' : 'none';\n",
              "    })();\n",
              "  </script>\n",
              "</div>\n",
              "    </div>\n",
              "  </div>\n"
            ]
          },
          "metadata": {},
          "execution_count": 8
        }
      ]
    },
    {
      "cell_type": "code",
      "source": [
        "df.shape"
      ],
      "metadata": {
        "colab": {
          "base_uri": "https://localhost:8080/"
        },
        "id": "jd-lKtjXAYLN",
        "outputId": "13314075-7a23-464e-f183-b2a62a7302ce"
      },
      "execution_count": 9,
      "outputs": [
        {
          "output_type": "execute_result",
          "data": {
            "text/plain": [
              "(57650, 4)"
            ]
          },
          "metadata": {},
          "execution_count": 9
        }
      ]
    },
    {
      "cell_type": "code",
      "source": [
        "len(df['artist'].unique())"
      ],
      "metadata": {
        "colab": {
          "base_uri": "https://localhost:8080/"
        },
        "id": "AhqkrC1YAayW",
        "outputId": "e978b64e-9518-4fa2-9b1b-af83432eba8d"
      },
      "execution_count": 11,
      "outputs": [
        {
          "output_type": "execute_result",
          "data": {
            "text/plain": [
              "643"
            ]
          },
          "metadata": {},
          "execution_count": 11
        }
      ]
    },
    {
      "cell_type": "code",
      "source": [
        "df['artist'].value_counts()[:11]"
      ],
      "metadata": {
        "colab": {
          "base_uri": "https://localhost:8080/"
        },
        "id": "3gVL9qVQAhyv",
        "outputId": "084064c2-1556-46f0-e60c-1145848ff92a"
      },
      "execution_count": 13,
      "outputs": [
        {
          "output_type": "execute_result",
          "data": {
            "text/plain": [
              "Donna Summer         191\n",
              "Gordon Lightfoot     189\n",
              "Bob Dylan            188\n",
              "George Strait        188\n",
              "Loretta Lynn         187\n",
              "Cher                 187\n",
              "Alabama              187\n",
              "Reba Mcentire        187\n",
              "Chaka Khan           186\n",
              "Dean Martin          186\n",
              "Hank Williams Jr.    185\n",
              "Name: artist, dtype: int64"
            ]
          },
          "metadata": {},
          "execution_count": 13
        }
      ]
    },
    {
      "cell_type": "code",
      "source": [
        "df['artist'].value_counts().values.mean()"
      ],
      "metadata": {
        "colab": {
          "base_uri": "https://localhost:8080/"
        },
        "id": "6pgZu6aNAr5v",
        "outputId": "96a09199-0f3e-4fcf-cfd4-b5ddbbde753c"
      },
      "execution_count": 14,
      "outputs": [
        {
          "output_type": "execute_result",
          "data": {
            "text/plain": [
              "89.65785381026438"
            ]
          },
          "metadata": {},
          "execution_count": 14
        }
      ]
    },
    {
      "cell_type": "code",
      "source": [
        "data = ', '.join(df['text'])"
      ],
      "metadata": {
        "id": "1MECY9W_A3k6"
      },
      "execution_count": 16,
      "outputs": []
    },
    {
      "cell_type": "code",
      "source": [
        "data[:369]"
      ],
      "metadata": {
        "colab": {
          "base_uri": "https://localhost:8080/",
          "height": 54
        },
        "id": "vtxXji8ZBMFn",
        "outputId": "425cbb1a-59ef-43a8-dd27-9415526e2cab"
      },
      "execution_count": 17,
      "outputs": [
        {
          "output_type": "execute_result",
          "data": {
            "text/plain": [
              "\"Look at her face, it's a wonderful face  \\nAnd it means something special to me  \\nLook at the way that she smiles when she sees me  \\nHow lucky can one fellow be?  \\n  \\nShe's just my kind of girl, she makes me feel fine  \\nWho could ever believe that she could be mine?  \\nShe's just my kind of girl, without her I'm blue  \\nAnd if she ever leaves me what could I do, what co\""
            ],
            "application/vnd.google.colaboratory.intrinsic+json": {
              "type": "string"
            }
          },
          "metadata": {},
          "execution_count": 17
        }
      ]
    },
    {
      "cell_type": "code",
      "source": [
        "chars = sorted(list(set(data)))"
      ],
      "metadata": {
        "id": "VJqrHQh4BOsZ"
      },
      "execution_count": 19,
      "outputs": []
    },
    {
      "cell_type": "code",
      "source": [
        "vocab_size = len(chars)"
      ],
      "metadata": {
        "id": "yvbwahrkBoER"
      },
      "execution_count": 20,
      "outputs": []
    },
    {
      "cell_type": "code",
      "source": [
        "chars"
      ],
      "metadata": {
        "colab": {
          "base_uri": "https://localhost:8080/"
        },
        "id": "k_nVCI4rCIrb",
        "outputId": "1f887c2a-301a-40b2-ee61-a320154ae343"
      },
      "execution_count": 21,
      "outputs": [
        {
          "output_type": "execute_result",
          "data": {
            "text/plain": [
              "['\\n',\n",
              " ' ',\n",
              " '!',\n",
              " '\"',\n",
              " \"'\",\n",
              " '(',\n",
              " ')',\n",
              " ',',\n",
              " '-',\n",
              " '.',\n",
              " '0',\n",
              " '1',\n",
              " '2',\n",
              " '3',\n",
              " '4',\n",
              " '5',\n",
              " '6',\n",
              " '7',\n",
              " '8',\n",
              " '9',\n",
              " ':',\n",
              " '?',\n",
              " 'A',\n",
              " 'B',\n",
              " 'C',\n",
              " 'D',\n",
              " 'E',\n",
              " 'F',\n",
              " 'G',\n",
              " 'H',\n",
              " 'I',\n",
              " 'J',\n",
              " 'K',\n",
              " 'L',\n",
              " 'M',\n",
              " 'N',\n",
              " 'O',\n",
              " 'P',\n",
              " 'Q',\n",
              " 'R',\n",
              " 'S',\n",
              " 'T',\n",
              " 'U',\n",
              " 'V',\n",
              " 'W',\n",
              " 'X',\n",
              " 'Y',\n",
              " 'Z',\n",
              " '[',\n",
              " ']',\n",
              " 'a',\n",
              " 'b',\n",
              " 'c',\n",
              " 'd',\n",
              " 'e',\n",
              " 'f',\n",
              " 'g',\n",
              " 'h',\n",
              " 'i',\n",
              " 'j',\n",
              " 'k',\n",
              " 'l',\n",
              " 'm',\n",
              " 'n',\n",
              " 'o',\n",
              " 'p',\n",
              " 'q',\n",
              " 'r',\n",
              " 's',\n",
              " 't',\n",
              " 'u',\n",
              " 'v',\n",
              " 'w',\n",
              " 'x',\n",
              " 'y',\n",
              " 'z']"
            ]
          },
          "metadata": {},
          "execution_count": 21
        }
      ]
    },
    {
      "cell_type": "code",
      "source": [
        "# mapping of all the characters to their index\n",
        "char_to_ix = {ch: i for i, ch in enumerate(chars)}\n",
        "# mapping of all the indices to the irrespective characters\n",
        "ix_to_char = {i: ch for i, ch in enumerate(chars)}"
      ],
      "metadata": {
        "id": "290OPcGYBstn"
      },
      "execution_count": 22,
      "outputs": []
    },
    {
      "cell_type": "code",
      "source": [
        "char_to_ix['s']"
      ],
      "metadata": {
        "colab": {
          "base_uri": "https://localhost:8080/"
        },
        "id": "LdIg-LKpCTvF",
        "outputId": "5d19eece-6a05-41fc-cf7a-ca9d5715763b"
      },
      "execution_count": 23,
      "outputs": [
        {
          "output_type": "execute_result",
          "data": {
            "text/plain": [
              "68"
            ]
          },
          "metadata": {},
          "execution_count": 23
        }
      ]
    },
    {
      "cell_type": "code",
      "source": [
        "ix_to_char[68]"
      ],
      "metadata": {
        "colab": {
          "base_uri": "https://localhost:8080/",
          "height": 36
        },
        "id": "W3xrK9g0CXfo",
        "outputId": "07c46664-1d0b-47a4-d0e8-5ccf6767ec12"
      },
      "execution_count": 24,
      "outputs": [
        {
          "output_type": "execute_result",
          "data": {
            "text/plain": [
              "'s'"
            ],
            "application/vnd.google.colaboratory.intrinsic+json": {
              "type": "string"
            }
          },
          "metadata": {},
          "execution_count": 24
        }
      ]
    },
    {
      "cell_type": "code",
      "source": [
        "# returns the one-hot encoded vectors, given an index of the character\n",
        "def one_hot_encoder(index):\n",
        "  return np.eye(vocab_size)[index]"
      ],
      "metadata": {
        "id": "KBZcoeaICdRL"
      },
      "execution_count": 25,
      "outputs": []
    },
    {
      "cell_type": "markdown",
      "source": [
        "Defining the network parameters"
      ],
      "metadata": {
        "id": "omJhkJthObXC"
      }
    },
    {
      "cell_type": "code",
      "source": [
        "hidden_size = 100\n",
        "seq_length = 25\n",
        "learning_rate = 1e-1\n",
        "\n",
        "seed_value = 42\n",
        "tf.compat.v1.set_random_seed(seed_value)\n",
        "random.seed(seed_value)"
      ],
      "metadata": {
        "id": "JnyePqCkCoDa"
      },
      "execution_count": 26,
      "outputs": []
    },
    {
      "cell_type": "code",
      "source": [
        "tf.compat.v1.disable_v2_behavior()"
      ],
      "metadata": {
        "colab": {
          "base_uri": "https://localhost:8080/"
        },
        "id": "K-ebDK6JOj1V",
        "outputId": "d670b645-b6dc-4f08-d3fe-f3d88f24dd91"
      },
      "execution_count": 27,
      "outputs": [
        {
          "output_type": "stream",
          "name": "stderr",
          "text": [
            "WARNING:tensorflow:From /usr/local/lib/python3.10/dist-packages/tensorflow/python/compat/v2_compat.py:107: disable_resource_variables (from tensorflow.python.ops.variable_scope) is deprecated and will be removed in a future version.\n",
            "Instructions for updating:\n",
            "non-resource variables are not supported in the long term\n"
          ]
        }
      ]
    },
    {
      "cell_type": "code",
      "source": [
        "inputs = tf.compat.v1.placeholder(shape=[None, vocab_size],dtype=tf.float32, name=\"inputs\")\n",
        "targets = tf.compat.v1.placeholder(shape=[None, vocab_size], dtype=tf.float32, name=\"targets\")"
      ],
      "metadata": {
        "id": "EcwTlyDjOmNE"
      },
      "execution_count": 28,
      "outputs": []
    },
    {
      "cell_type": "code",
      "source": [
        "init_state = tf.compat.v1.placeholder(shape=[1, hidden_size], dtype=tf.float32, name=\"state\")"
      ],
      "metadata": {
        "id": "dciN29sVOnqA"
      },
      "execution_count": 29,
      "outputs": []
    },
    {
      "cell_type": "code",
      "source": [
        "initializer = tf.random_normal_initializer(stddev=0.1)"
      ],
      "metadata": {
        "id": "ldWBLJLqOpKv"
      },
      "execution_count": 30,
      "outputs": []
    },
    {
      "cell_type": "code",
      "source": [
        "with tf.compat.v1.variable_scope(\"RNN\") as scope:\n",
        "    h_t = init_state\n",
        "    y_hat = []\n",
        "\n",
        "    for t, x_t in enumerate(tf.split(inputs, seq_length, axis=0)):\n",
        "        if t > 0:\n",
        "            scope.reuse_variables()\n",
        "\n",
        "        #input to hidden layer weights\n",
        "        U = tf.compat.v1.get_variable(\"U\", [vocab_size, hidden_size], initializer=initializer)\n",
        "        #hidden to hidden layer weights\n",
        "        W = tf.compat.v1.get_variable(\"W\", [hidden_size, hidden_size], initializer=initializer)\n",
        "        #output to hidden layer weights\n",
        "        V = tf.compat.v1.get_variable(\"V\", [hidden_size, vocab_size], initializer=initializer)\n",
        "        #bias for hidden layer\n",
        "        bh = tf.compat.v1.get_variable(\"bh\", [hidden_size], initializer=initializer)\n",
        "        #bias for output layer\n",
        "        by = tf.compat.v1.get_variable(\"by\", [vocab_size], initializer=initializer)\n",
        "        h_t = tf.tanh(tf.matmul(x_t, U) + tf.matmul(h_t, W) + bh)\n",
        "        y_hat_t = tf.matmul(h_t, V) + by\n",
        "        y_hat.append(y_hat_t)"
      ],
      "metadata": {
        "id": "6a8aF7sGOqmV"
      },
      "execution_count": 31,
      "outputs": []
    },
    {
      "cell_type": "code",
      "source": [
        "output_softmax = tf.nn.softmax(y_hat[-1])\n",
        "outputs = tf.concat(y_hat, axis=0)"
      ],
      "metadata": {
        "id": "044k4h88OuMk"
      },
      "execution_count": 32,
      "outputs": []
    },
    {
      "cell_type": "code",
      "source": [
        "loss = tf.reduce_mean(tf.nn.softmax_cross_entropy_with_logits(labels=targets, logits=outputs))"
      ],
      "metadata": {
        "id": "wCxj2rHLOvzy"
      },
      "execution_count": 33,
      "outputs": []
    },
    {
      "cell_type": "code",
      "source": [
        "hprev = h_t"
      ],
      "metadata": {
        "id": "vIdb40sdOx8e"
      },
      "execution_count": 34,
      "outputs": []
    },
    {
      "cell_type": "markdown",
      "source": [
        "Defining Backprop Through Time(BPTT)"
      ],
      "metadata": {
        "id": "R_fxY9xQO02B"
      }
    },
    {
      "cell_type": "code",
      "source": [
        "# Initialize the Adam optimizer\n",
        "minimizer = tf.compat.v1.train.AdamOptimizer()"
      ],
      "metadata": {
        "id": "P1ODR8dtOzcD"
      },
      "execution_count": 35,
      "outputs": []
    },
    {
      "cell_type": "code",
      "source": [
        "# Compute the gradients of the loss with the Adam optimizer\n",
        "gradients = minimizer.compute_gradients(loss)"
      ],
      "metadata": {
        "id": "vFKvC78ZO_xP"
      },
      "execution_count": 36,
      "outputs": []
    },
    {
      "cell_type": "code",
      "source": [
        "# Set the threshold the gradient clipping\n",
        "threshold = tf.constant(5.0, name=\"grad_clipping\")"
      ],
      "metadata": {
        "id": "NeR5O8zsPDxB"
      },
      "execution_count": 37,
      "outputs": []
    },
    {
      "cell_type": "code",
      "source": [
        "# Clip the gradients that exceed the threshold and bring it to the range\n",
        "clipped_gradients = []\n",
        "for grad, var in gradients:\n",
        "    clipped_grad = tf.clip_by_value(grad, -threshold, threshold)\n",
        "    clipped_gradients.append((clipped_grad, var))"
      ],
      "metadata": {
        "id": "DFw9UTDVPHPF"
      },
      "execution_count": 38,
      "outputs": []
    },
    {
      "cell_type": "code",
      "source": [
        "# Update the gradients with the clipped gradients\n",
        "updated_gradients = minimizer.apply_gradients(clipped_gradients)"
      ],
      "metadata": {
        "id": "nEMKKXj7PLKY"
      },
      "execution_count": 39,
      "outputs": []
    },
    {
      "cell_type": "markdown",
      "source": [
        "Generating Songs"
      ],
      "metadata": {
        "id": "HSIClZdXPPSS"
      }
    },
    {
      "cell_type": "code",
      "source": [
        "sess = tf.compat.v1.Session()\n",
        "init = tf.compat.v1.global_variables_initializer()\n",
        "sess.run(init)"
      ],
      "metadata": {
        "id": "QAltEW8fPN8S"
      },
      "execution_count": 40,
      "outputs": []
    },
    {
      "cell_type": "code",
      "source": [
        "pointer = 0\n",
        "iteration = 0"
      ],
      "metadata": {
        "id": "wNyXXsLNPRwP"
      },
      "execution_count": 41,
      "outputs": []
    },
    {
      "cell_type": "code",
      "source": [
        "while iteration < 50001:\n",
        "\n",
        "    if pointer + seq_length+1 >= len(data) or iteration == 0:\n",
        "        hprev_val = np.zeros([1, hidden_size])\n",
        "        pointer = 0\n",
        "\n",
        "    #select input sentence\n",
        "    input_sentence = data[pointer:pointer + seq_length]\n",
        "\n",
        "    #select output sentence\n",
        "    output_sentence = data[pointer + 1:pointer + seq_length + 1]\n",
        "\n",
        "    #get the indices of input and output sentence\n",
        "    input_indices = [char_to_ix[ch] for ch in input_sentence]\n",
        "    target_indices = [char_to_ix[ch] for ch in output_sentence]\n",
        "\n",
        "    #convert the input and output sentence to a one-hot encoded vectors with the help of their indices\n",
        "    input_vector = one_hot_encoder(input_indices)\n",
        "    target_vector = one_hot_encoder(target_indices)\n",
        "\n",
        "\n",
        "    #train the network and get the final hidden state\n",
        "    hprev_val, loss_val, _ = sess.run([hprev, loss, updated_gradients],\n",
        "                                      feed_dict={inputs: input_vector,targets: target_vector,init_state: hprev_val})\n",
        "\n",
        "\n",
        "    #make predictions on every 500th iteration\n",
        "    if iteration % 500 == 0:\n",
        "\n",
        "        #length of characters we want to predict\n",
        "        sample_length = 500\n",
        "\n",
        "        #randomly select index\n",
        "        random_index = random.randint(0, len(data) - seq_length)\n",
        "\n",
        "        #sample the input sentence with the randomly selected index\n",
        "        sample_input_sent = data[random_index:random_index + seq_length]\n",
        "\n",
        "        #get the indices of the sampled input sentence\n",
        "        sample_input_indices = [char_to_ix[ch] for ch in sample_input_sent]\n",
        "\n",
        "        #store the final hidden state in sample_prev_state_val\n",
        "        sample_prev_state_val = np.copy(hprev_val)\n",
        "\n",
        "        #for storing the indices of predicted characters\n",
        "        predicted_indices = []\n",
        "\n",
        "\n",
        "        for t in range(sample_length):\n",
        "\n",
        "            #convert the sampled input sentence into one-hot encoded vector using their indices\n",
        "            sample_input_vector = one_hot_encoder(sample_input_indices)\n",
        "\n",
        "            #compute the probability of all the words in the vocabulary to be the next character\n",
        "            probs_dist, sample_prev_state_val = sess.run([output_softmax, hprev],\n",
        "                                                      feed_dict={inputs: sample_input_vector,init_state: sample_prev_state_val})\n",
        "\n",
        "            #we randomly select the index with the probabilty distribtuion generated by the model\n",
        "            ix = np.random.choice(range(vocab_size), p=probs_dist.ravel())\n",
        "\n",
        "            sample_input_indices = sample_input_indices[1:] + [ix]\n",
        "\n",
        "\n",
        "            #store the predicted index in predicted_indices list\n",
        "            predicted_indices.append(ix)\n",
        "\n",
        "        #convert the predicted indices to their character\n",
        "        predicted_chars = [ix_to_char[ix] for ix in predicted_indices]\n",
        "\n",
        "        #combine the predcited characters\n",
        "        text = ''.join(predicted_chars)\n",
        "\n",
        "        #predict the predict text on every 50000th iteration\n",
        "        if iteration % 5000 == 0:\n",
        "            print ('\\n')\n",
        "            print (' After %d iterations' %(iteration))\n",
        "            print('\\n %s \\n' % (text,))\n",
        "            print('-'*115)\n",
        "\n",
        "\n",
        "    #increment the pointer and iteration\n",
        "    pointer += seq_length\n",
        "    iteration += 1"
      ],
      "metadata": {
        "colab": {
          "base_uri": "https://localhost:8080/"
        },
        "id": "yfJbI3u7PS__",
        "outputId": "e9f3122e-d6be-49ca-a66a-35a861727261"
      },
      "execution_count": 42,
      "outputs": [
        {
          "output_type": "stream",
          "name": "stdout",
          "text": [
            "\n",
            "\n",
            " After 0 iterations\n",
            "\n",
            " 6ljp\n",
            "tcRtHsHq36moD-VL cik]yzigZF5[8Xd0i'pZYv 5-2wfWkJM-ElL-vyMn)3!]ep\n",
            "jlUE8k9 GNFa'btojV3QtSx5Jecy,\"kxq?lus?LXqZM?[28iZlFOUr')a2(ShC9h-6Pk2CeGbZWFE!oY!Nq]eKMl(T[lIke[f[?\"K5wE-TM\n",
            "zMmhWj\"2gdTkguld]Xs(1r7)7UH6iRR-b?U2HXXQFXXa(Sa-8(ls!]Ikrz9k,uX9,ZZikzS8wj3IxU5ILiKV6nC17rrWG[\"Y(2v1jEz\"FVZ]SFk vec?qB4\"C)1\n",
            "fAqtD1G'ARUK\"qYXnlDVk'GSBzrjNQ:LtRcnRz3d8Zj03jt-cQHZhLmb6dGUqF\"zGMZhN bHSk\" .o3[ux5qbJeU\n",
            "iMXX(ppeh-5tip5c4p7J86ZNBY4tp2qb1YoZ6YshFM)D7QT.Zw?dgg)Kqd7ObkulESc7Wo!qdYISz?VBgVdT\"8I2EdJgzh6u.hm9tka3vuU-( \n",
            "\n",
            "-------------------------------------------------------------------------------------------------------------------\n",
            "\n",
            "\n",
            " After 5000 iterations\n",
            "\n",
            "   \n",
            "Wha gind a tiles,  \n",
            "I'me fle the you hereo  \n",
            "  \n",
            "Wa munt hroe some, a tay, ounit \n",
            "\n",
            " \n",
            "The srorf and t mavn toe dfme-ond overebef, sus oo game, thew Ildin I, you'de jofen nigus  \n",
            "  \n",
            "Asw ma coSe day dinive, If  \n",
            "I wre I's gowe all-the feet or sine dee sne thon  \n",
            "I  \n",
            "Cot's I my on  \n",
            "The corese be to ghe  \n",
            "ToT fore -laveein the pline, anc?, ale ane bigh, thanp as I  \n",
            "Therk nA nund dind tofthe  \n",
            "Bumy  \n",
            "Fheocroos  \n",
            "That the st move fon  \n",
            "I becan ghe to fo  \n",
            "I  \n",
            "Anl was sole fyine y fond to efo go to  \n",
            "\n",
            "-------------------------------------------------------------------------------------------------------------------\n",
            "\n",
            "\n",
            " After 10000 iterations\n",
            "\n",
            "  my's ceabinp, om find, on a merl wind aind ick on the aine  \n",
            "Yeae........ haye the any, yor shenget theah,, me booe 'rselis  \n",
            "We cryybodt wadibe  \n",
            "I colrp, I like yourreh bore lobes,  \n",
            "'Caulk, me elike,  \n",
            "Camydnever beby wayt  \n",
            "Yeacked ereese  \n",
            "Righter there I mest, yoncerda fine tenteh, bere? out, bink, whigg no we urk. ware falk, net me fink  \n",
            "Tare corist, my body, merning, think ghatle to rombwuch me mo tonl'm hond, it chays  \n",
            "Romet, kemondebory do botting  \n",
            "Hene  \n",
            "S.ee, shink I'st fert er s \n",
            "\n",
            "-------------------------------------------------------------------------------------------------------------------\n",
            "\n",
            "\n",
            " After 15000 iterations\n",
            "\n",
            "   \n",
            "\n",
            ", in the wond  \n",
            "Brought cared  \n",
            "Onde of  \n",
            "I tonly s  \n",
            "I, way  \n",
            "  \n",
            "\n",
            "  \n",
            "Os lithnady I want tike is not me life be thooknow that you taic urtires you tred tO beeS rightto lptay  \n",
            "Love to mo you the roo fee  \n",
            "Wiml you the monits be troold sight) the beatrs ood love ledttt the tous  \n",
            "Jreme of  \n",
            "Is dom ank to the to do  \n",
            "That I lover to staint you are me  \n",
            "In't nthe hit to ta  \n",
            "  \n",
            "In the touthor wist t oo I wante at me  \n",
            "Anl  \n",
            "Juby to outh brti, wart me toum if lomed opt on  \n",
            "Onde  \n",
            "And I hon thit \n",
            "\n",
            "-------------------------------------------------------------------------------------------------------------------\n",
            "\n",
            "\n",
            " After 20000 iterations\n",
            "\n",
            " stop so whorts bus of avero, anded, I'm storfowt'll I meat the mans n me Live yout herey and fhet thelo  \n",
            "Asy in't give that I'llimysayse thos I'm room, you my not ichen I gis toll with up enop  \n",
            "I 'lliss  \n",
            "I's nevore.  \n",
            "  \n",
            "Walk, aigh\n",
            "\n",
            ", It's a wey boen by the lyosl\n",
            "\n",
            ",.Cruleile what wold foolk justll. .C I just dane rakin' shtopir \n",
            "\n",
            ", I'mmand to live you tenne gontad? there's I'm the minded'n's ure I'm wome'rdod, yoak\n",
            "\n",
            ", was anatse's I'li cay my my's llave I'ges I'm me me never my acay and atlda \n",
            "\n",
            "-------------------------------------------------------------------------------------------------------------------\n",
            "\n",
            "\n",
            " After 25000 iterations\n",
            "\n",
            " deden I wnathing inss chay thry didcay  \n",
            "  \n",
            "I hrees so meas no wornourthers with semple, I'm dottan (Soternt bah  \n",
            "  \n",
            "SOrtits dommbnipad you  \n",
            "Shin' tome dove misecome !\n",
            "Just aine spouch  \n",
            "Anh yturk world won't doon  \n",
            "Where ar ay, down  \n",
            "  \n",
            "I woull  \n",
            "Aidnieps  \n",
            "  \n",
            "Ahl wimm  \n",
            "And romerod nelll shidked  \n",
            "Ah, way, tome duah, mase ofrilie cimince (sorrie  \n",
            "  \n",
            "Soruuch I corick my clote aw oh Icling dort, Iy dumpoll  \n",
            "Asd keal, pad I Ty time  \n",
            "I'll made on mate sites  \n",
            "Exccone mume cerleal  \n",
            "  \n",
            "Prdada \n",
            "\n",
            "-------------------------------------------------------------------------------------------------------------------\n",
            "\n",
            "\n",
            " After 30000 iterations\n",
            "\n",
            "  lith it'n life over toliw and time come oll goodble one  \n",
            "A, oples\n",
            "\n",
            ", The ganaba  \n",
            "Faisboh dyor the goodin' hary to colone do be dildornw mp owurre to makm your the Sight  \n",
            "A  \n",
            "Feack nuthing on the say forougha come is a tay sayhead it way  \n",
            "  \n",
            "And if chall pears warpunit be,  \n",
            "Llay hay yeerded semes to bast harrtfer beirngal  \n",
            "Gears oftel  \n",
            "You kilw  \n",
            "Gore, leams of goods in thought'll fidezy way lithtrime  \n",
            "  \n",
            "(lastta sheadforld your the that funlin' goitet hake a shone trle on ever the gaiss \n",
            "\n",
            "-------------------------------------------------------------------------------------------------------------------\n",
            "\n",
            "\n",
            " After 35000 iterations\n",
            "\n",
            "  want (stel  \n",
            "Pabint  \n",
            "The light on shew  \n",
            "  \n",
            "[Rell gotty  \n",
            "Bahkluender frie  \n",
            "Littere    \n",
            "[nitbroghar  \n",
            "We's neep that pidly peep  \n",
            "  \n",
            "Just it gits nead  \n",
            "Same oh  hear  \n",
            "We pon't exed to know I'm siglt to the warp net I'sleddine at logmeand a)  \n",
            "It all mant ack all no now isumpande?  \n",
            "I'm und boblungir peeppjain' we pounca  \n",
            "I gut averlime  \n",
            "Lyin Pow you keep pill chambain  \n",
            "I'm eve'ne sobet 'marin'  \n",
            "I wnow the peeplina loncan'  \n",
            "And paid baby,  \n",
            "Ale like got it siee I connige  \n",
            "Ooll breald s \n",
            "\n",
            "-------------------------------------------------------------------------------------------------------------------\n",
            "\n",
            "\n",
            " After 40000 iterations\n",
            "\n",
            " oasey s une  \n",
            "And his uree for?  \n",
            "He staybe a grastanter susie leve is likt apher teard Evereally bistly  \n",
            "And tiqus  \n",
            "And neare Don fike spaute and I stire  \n",
            "Take openir an  \n",
            "It we end  \n",
            "And  \n",
            "(But's heat  \n",
            "We're so is Spene pyasky come Blook's got try Tan and whine will be that are and like berta, \"AS No bantanting\" and who monss your weart  \n",
            "We Alive yin an the canture playes we'rl is  \n",
            "And for we frot san?\n",
            "\n",
            ", With is  \n",
            "  \n",
            "He's wain  \n",
            "You for oreel'd buy hacks anson poos hifrsstth and Can ema \n",
            "\n",
            "-------------------------------------------------------------------------------------------------------------------\n",
            "\n",
            "\n",
            " After 45000 iterations\n",
            "\n",
            "  of. Back Croill  \n",
            "And now\"y  \n",
            "Some's wart us Love of to me I ha dey better be apcurf you baby  \n",
            "  \n",
            "Bot everyse as that yaus girl?\n",
            ", emear up do gotter whan I my girf allay  \n",
            "I nothr? you're you're by when oht eyeay tay  \n",
            "It's natdrey you wornget to beating an with me I couse this Pleape tid down biand  \n",
            "Moue  \n",
            "  \n",
            "You'll to Awy  \n",
            "  \n",
            "[Chorusfa scause, you gies making to you beack and the wonly you to leale, it's My Come that yone to go wat out it be you just seent you nean  \n",
            "You live uver  \n",
            "I'm d \n",
            "\n",
            "-------------------------------------------------------------------------------------------------------------------\n",
            "\n",
            "\n",
            " After 50000 iterations\n",
            "\n",
            " FAnm epsecr me ard:?  \n",
            "Ffy Mith:]  \n",
            "Fornole.. That's gords crmabr:]  \n",
            "But here (-Esed lifessedding is a manca to cres telling and shlies]  \n",
            "End of my plowh From t'll jLike mestlith!  \n",
            "Oren, [I'll just hearm..  \n",
            "Ond mater me  \n",
            "[Ardaite:, [I's every minjmus:]  \n",
            "[CEve Kere.  \n",
            "[Lepsied.-  \n",
            "[Mesumok Sound  \n",
            "[  \n",
            "[Coon sking  \n",
            "You that I've from stcase:] list up of cknay  \n",
            "  \n",
            "[And my deel opes orf  \n",
            "[Tre!.  \n",
            "[Brtcamise doont are or the craund.  \n",
            "Youtle soup e cry  \n",
            "Just raun e knead old Ipsado car mann \n",
            "\n",
            "-------------------------------------------------------------------------------------------------------------------\n"
          ]
        }
      ]
    },
    {
      "cell_type": "code",
      "source": [],
      "metadata": {
        "id": "2F-CKF_WPWp2"
      },
      "execution_count": null,
      "outputs": []
    }
  ]
}